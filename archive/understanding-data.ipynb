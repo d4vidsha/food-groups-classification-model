{
 "cells": [
  {
   "cell_type": "code",
   "execution_count": null,
   "metadata": {},
   "outputs": [],
   "source": [
    "import pandas as pd\n",
    "import os\n",
    "\n",
    "# depending on the OS the path to the data file is different\n",
    "if os.name == 'nt':\n",
    "    data = pd.read_excel(r'..\\data\\nutrient-file-release2-jan22.xlsx', sheet_name='All solids & liquids per 100g')\n",
    "elif os.name == 'posix':\n",
    "    data = pd.read_excel(r'../data/nutrient-file-release2-jan22.xlsx', sheet_name='All solids & liquids per 100g')"
   ]
  },
  {
   "cell_type": "code",
   "execution_count": null,
   "metadata": {},
   "outputs": [],
   "source": [
    "# plot on a graph the number of rows with the same classification value and do not include x-axis marks\n",
    "data['Classification'].value_counts().plot(kind='bar', title='Number of rows per classification').tick_params(axis='x', which='both', bottom=False, top=False, labelbottom=False)"
   ]
  },
  {
   "cell_type": "code",
   "execution_count": null,
   "metadata": {},
   "outputs": [],
   "source": [
    "# convert classification to food group defined as taking the slice of the string for first 3 characters\n",
    "data['Classification'] = data['Classification'].astype(str).str.slice(0, 2)\n",
    "\n",
    "# print the total number of classifications\n",
    "print('Total number of classifications: ' + str(len(data['Classification'].unique())))\n",
    "\n",
    "# plot on a graph the number of rows with the same food group value and do not include x-axis marks\n",
    "data['Classification'].value_counts().plot(kind='bar', title='Number of rows per food group').tick_params(axis='x', which='both', bottom=False, top=False, labelbottom=True)"
   ]
  }
 ],
 "metadata": {
  "kernelspec": {
   "display_name": ".venv",
   "language": "python",
   "name": "python3"
  },
  "language_info": {
   "codemirror_mode": {
    "name": "ipython",
    "version": 3
   },
   "file_extension": ".py",
   "mimetype": "text/x-python",
   "name": "python",
   "nbconvert_exporter": "python",
   "pygments_lexer": "ipython3",
   "version": "3.11.3"
  },
  "orig_nbformat": 4
 },
 "nbformat": 4,
 "nbformat_minor": 2
}

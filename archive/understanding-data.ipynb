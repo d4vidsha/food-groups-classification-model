{
 "cells": [
  {
   "cell_type": "code",
   "execution_count": null,
   "metadata": {},
   "outputs": [],
   "source": [
    "import pandas as pd\n",
    "import os\n",
    "\n",
    "# depending on the OS the path to the data file is different\n",
    "if os.name == 'nt':\n",
    "    data = pd.read_excel(r'..\\data\\nutrient-file-release2-jan22.xlsx', sheet_name='All solids & liquids per 100g')\n",
    "    food_groups = pd.read_excel(r'..\\data\\food-groups.xls')\n",
    "elif os.name == 'posix':\n",
    "    data = pd.read_excel(r'../data/nutrient-file-release2-jan22.xlsx', sheet_name='All solids & liquids per 100g')\n",
    "    food_groups = pd.read_excel(r'../data/food-groups.xls')"
   ]
  },
  {
   "cell_type": "code",
   "execution_count": null,
   "metadata": {},
   "outputs": [],
   "source": [
    "# plot on a graph the number of rows with the same classification value and do not include x-axis marks\n",
    "data['Classification'].value_counts().plot(kind='bar', title='Number of rows per classification').tick_params(axis='x', which='both', bottom=False, top=False, labelbottom=False)"
   ]
  },
  {
   "cell_type": "code",
   "execution_count": null,
   "metadata": {},
   "outputs": [],
   "source": [
    "from matplotlib import pyplot as plt\n",
    "\n",
    "# convert classification to food group code defined as taking the slice of the string for first 2 characters\n",
    "data['Classification'] = data['Classification'].astype(str).str.slice(0, 2)\n",
    "\n",
    "# convert to int and 0 if string cannot be converted to int\n",
    "data['Classification'] = pd.to_numeric(data['Classification'], errors='coerce').fillna(0).astype(int)\n",
    "\n",
    "# merge the food groups with the data\n",
    "data = pd.merge(data, food_groups, left_on='Classification', right_on='Food Group Code')\n",
    "\n",
    "# rename the columns\n",
    "data = data.rename(columns={'Food Group and Sub-Group Name': 'Food Group'})\n",
    "\n",
    "# print the number of rows per food group\n",
    "print(data['Food Group'].value_counts())\n",
    "\n",
    "# limit the length of the food group names to fixed characters and add ... to the end\n",
    "data['Food Group'] = data['Food Group'].str.slice(0, 10) + '...'\n",
    "\n",
    "# plot on a graph the number of rows with the same food group value\n",
    "plt.figure(figsize=(10, 5))\n",
    "value_counts = data['Food Group'].value_counts()\n",
    "plt.bar(value_counts.index, value_counts.values)\n",
    "plt.title('Number of rows per food group')\n",
    "plt.xticks(rotation=45)\n",
    "plt.show()"
   ]
  }
 ],
 "metadata": {
  "kernelspec": {
   "display_name": ".venv",
   "language": "python",
   "name": "python3"
  },
  "language_info": {
   "codemirror_mode": {
    "name": "ipython",
    "version": 3
   },
   "file_extension": ".py",
   "mimetype": "text/x-python",
   "name": "python",
   "nbconvert_exporter": "python",
   "pygments_lexer": "ipython3",
   "version": "3.11.3"
  },
  "orig_nbformat": 4
 },
 "nbformat": 4,
 "nbformat_minor": 2
}

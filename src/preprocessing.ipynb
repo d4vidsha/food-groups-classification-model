{
 "cells": [
  {
   "attachments": {},
   "cell_type": "markdown",
   "metadata": {},
   "source": [
    "# Import data\n",
    "Import the full dataset."
   ]
  },
  {
   "cell_type": "code",
   "execution_count": null,
   "metadata": {},
   "outputs": [],
   "source": [
    "import pandas as pd\n",
    "import os\n",
    "\n",
    "# depending on the OS the path to the data file is different\n",
    "if os.name == 'nt':\n",
    "    data = pd.read_excel(r'..\\data\\nutrient-file-release2-jan22.xlsx', sheet_name='All solids & liquids per 100g')\n",
    "elif os.name == 'posix':\n",
    "    data = pd.read_excel(r'../data/nutrient-file-release2-jan22.xlsx', sheet_name='All solids & liquids per 100g')\n",
    "\n",
    "data.shape"
   ]
  },
  {
   "attachments": {},
   "cell_type": "markdown",
   "metadata": {},
   "source": [
    "---\n",
    "# Preprocessing\n",
    "1. Convert \"Classification\" column to its root food group.\n",
    "2. Replace less common food groups with the \"Miscellaneous\" food group."
   ]
  },
  {
   "cell_type": "code",
   "execution_count": null,
   "metadata": {},
   "outputs": [],
   "source": [
    "TOP_X = 6\n",
    "MISCELLANEOUS = '31'\n",
    "\n",
    "# convert na to 0\n",
    "data = data.fillna(MISCELLANEOUS)\n",
    "\n",
    "# convert classification to food group defined as taking the slice of the string for first 3 characters\n",
    "data['Classification'] = data['Classification'].astype(str).str.slice(0, 2)\n",
    "\n",
    "# food_groups_to_replace_as_misc is defined as the value counts of the\n",
    "# classification column that are less than the last value count of the\n",
    "# top X classifications\n",
    "food_groups_to_replace_as_misc = data['Classification'].value_counts()[TOP_X - 1:].index.tolist()\n",
    "print('Food groups to replace as misc: ' + str(food_groups_to_replace_as_misc))\n",
    "\n",
    "# replace row values in the classification column with the misc food group \"31\"\n",
    "data['Classification'] = data['Classification'].replace(food_groups_to_replace_as_misc, MISCELLANEOUS)\n",
    "\n",
    "# print the total number of classifications\n",
    "print('Total number of classifications: ' + str(len(data['Classification'].unique())))\n",
    "\n",
    "# count the number of each classification and take the top x\n",
    "top_x_classifications = data['Classification'].value_counts().head(TOP_X).index.tolist()\n",
    "print('Top ' + str(min(TOP_X, len(data['Classification'].unique()))) + ' classifications: ' + str(sorted(top_x_classifications)))"
   ]
  },
  {
   "cell_type": "code",
   "execution_count": null,
   "metadata": {},
   "outputs": [],
   "source": [
    "# replace NaN values with 0\n",
    "data_without_nans = data.fillna(0)"
   ]
  },
  {
   "attachments": {},
   "cell_type": "markdown",
   "metadata": {},
   "source": [
    "---\n",
    "# Feature selection by mutual information\n",
    "Select the features above a certain threshold of mutual information with the target variable."
   ]
  },
  {
   "attachments": {},
   "cell_type": "markdown",
   "metadata": {},
   "source": [
    "### For regression\n",
    "Used with `linear-regression.ipynb`"
   ]
  },
  {
   "cell_type": "code",
   "execution_count": null,
   "metadata": {},
   "outputs": [],
   "source": [
    "# energy with dietary fibre is the target variable of mutual information calculation\n",
    "from sklearn.feature_selection import mutual_info_regression\n",
    "\n",
    "nutritional_values_regression = data_without_nans.drop(['Public Food Key', 'Classification', 'Food Name'], axis=1)\n",
    "\n",
    "# calculate mutual information\n",
    "mi_regression = mutual_info_regression(nutritional_values_regression, nutritional_values_regression['Energy with dietary fibre, equated \\n(kJ)'])"
   ]
  },
  {
   "attachments": {},
   "cell_type": "markdown",
   "metadata": {},
   "source": [
    "### For classification\n",
    "Used with `knn.ipynb`"
   ]
  },
  {
   "cell_type": "code",
   "execution_count": null,
   "metadata": {},
   "outputs": [],
   "source": [
    "# classification is the target variable of mutual information calculation\n",
    "from sklearn.feature_selection import mutual_info_classif\n",
    "\n",
    "nutritional_values_classif = data_without_nans.drop(['Public Food Key', 'Food Name'], axis=1)\n",
    "\n",
    "# calculate mutual information\n",
    "mi_classif = mutual_info_classif(nutritional_values_classif, nutritional_values_classif['Classification'])"
   ]
  },
  {
   "attachments": {},
   "cell_type": "markdown",
   "metadata": {},
   "source": [
    "## Save dataset with selected features"
   ]
  },
  {
   "cell_type": "code",
   "execution_count": null,
   "metadata": {},
   "outputs": [],
   "source": [
    "THRESHOLD = 0.2\n",
    "\n",
    "\n",
    "def save_mutual_information_to_csv(mi, nutritional_values, filename, threshold=THRESHOLD):\n",
    "    # show all mutual information values above threshold\n",
    "    selected_features = {}\n",
    "    for i in range(len(mi)):\n",
    "        if mi[i] >= THRESHOLD:\n",
    "            selected_features[nutritional_values.columns[i]] = mi[i]\n",
    "    print(\"Number of features selected:\", len(selected_features))\n",
    "\n",
    "    # use the selected features to create a new dataframe of only the selected features\n",
    "    data_with_selected_features = data[['Public Food Key', 'Classification', 'Food Name'] + list(selected_features.keys())[1:]]\n",
    "\n",
    "    # convert dictionary to dataframe\n",
    "    selected_features = pd.DataFrame.from_dict(selected_features, orient='index', columns=['Mutual Information'])\n",
    "\n",
    "    # save data with selected features to csv\n",
    "    data_with_selected_features.to_csv(f'../data/generated/{filename}', sep=',', header=True, index=False)\n",
    "\n",
    "\n",
    "# save mutual information to csv\n",
    "save_mutual_information_to_csv(mi_regression, nutritional_values_regression, 'preprocessed-data-regression.csv')\n",
    "save_mutual_information_to_csv(mi_classif, nutritional_values_classif, 'preprocessed-data-classification.csv')"
   ]
  }
 ],
 "metadata": {
  "kernelspec": {
   "display_name": ".venv",
   "language": "python",
   "name": "python3"
  },
  "language_info": {
   "codemirror_mode": {
    "name": "ipython",
    "version": 3
   },
   "file_extension": ".py",
   "mimetype": "text/x-python",
   "name": "python",
   "nbconvert_exporter": "python",
   "pygments_lexer": "ipython3",
   "version": "3.11.3"
  },
  "orig_nbformat": 4
 },
 "nbformat": 4,
 "nbformat_minor": 2
}

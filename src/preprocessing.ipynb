{
 "cells": [
  {
   "attachments": {},
   "cell_type": "markdown",
   "metadata": {},
   "source": [
    "# Import data\n",
    "Import the full dataset."
   ]
  },
  {
   "cell_type": "code",
   "execution_count": 83,
   "metadata": {},
   "outputs": [
    {
     "data": {
      "text/plain": [
       "(1616, 293)"
      ]
     },
     "execution_count": 83,
     "metadata": {},
     "output_type": "execute_result"
    }
   ],
   "source": [
    "import pandas as pd\n",
    "import os\n",
    "\n",
    "# depending on the OS the path to the data file is different\n",
    "if os.name == 'nt':\n",
    "    data = pd.read_excel(r'..\\data\\nutrient-file-release2-jan22.xlsx', sheet_name='All solids & liquids per 100g')\n",
    "elif os.name == 'posix':\n",
    "    data = pd.read_excel(r'../data/nutrient-file-release2-jan22.xlsx', sheet_name='All solids & liquids per 100g')\n",
    "\n",
    "data.shape"
   ]
  },
  {
   "attachments": {},
   "cell_type": "markdown",
   "metadata": {},
   "source": [
    "---\n",
    "# Preprocessing\n",
    "1. Convert \"Classification\" column to its root food group.\n",
    "2. Replace less common food groups with the \"Miscellaneous\" food group."
   ]
  },
  {
   "cell_type": "code",
   "execution_count": 84,
   "metadata": {},
   "outputs": [
    {
     "name": "stdout",
     "output_type": "stream",
     "text": [
      "For first version of food group:\n",
      "\tFood groups to replace as misc: ['13', '19', '11', '22', '23', '14', '31', '28', '20', '29', '25', '27', '17', '26', '21', '34', '30', '32']\n",
      "\tTotal number of classifications: 6\n",
      "\tTop 6 classifications: ['12', '15', '16', '18', '24', '31']\n",
      "\n",
      "     Public Food Key Classification   \n",
      "0            F002258             31  \\\n",
      "1            F002893             31   \n",
      "2            F002963             31   \n",
      "3            F002970             31   \n",
      "4            F003190             31   \n",
      "...              ...            ...   \n",
      "1611         F009774             24   \n",
      "1612         F009773             24   \n",
      "1613         F009766             24   \n",
      "1614         F009765             24   \n",
      "1615         F009764             24   \n",
      "\n",
      "                                              Food Name   \n",
      "0                          Cardamom seed, dried, ground  \\\n",
      "1                         Chilli (chili), dried, ground   \n",
      "2                               Cinnamon, dried, ground   \n",
      "3                                 Cloves, dried, ground   \n",
      "4                         Coriander seed, dried, ground   \n",
      "...                                                 ...   \n",
      "1611  Zucchini, green skin, fresh, unpeeled, fried, ...   \n",
      "1612  Zucchini, green skin, fresh, unpeeled, boiled,...   \n",
      "1613             Zucchini, golden, fresh, unpeeled, raw   \n",
      "1614  Zucchini, golden, fresh, unpeeled, fried, no a...   \n",
      "1615  Zucchini, golden, fresh, unpeeled, boiled, dra...   \n",
      "\n",
      "      Energy with dietary fibre, equated \\n(kJ)   \n",
      "0                                          1236  \\\n",
      "1                                          1280   \n",
      "2                                          1004   \n",
      "3                                          1389   \n",
      "4                                          1344   \n",
      "...                                         ...   \n",
      "1611                                         92   \n",
      "1612                                         77   \n",
      "1613                                         78   \n",
      "1614                                        111   \n",
      "1615                                         93   \n",
      "\n",
      "      Energy, without dietary fibre, equated \\n(kJ)  Moisture (water) \\n(g)   \n",
      "0                                              1012                     8.3  \\\n",
      "1                                              1002                    10.8   \n",
      "2                                               579                    10.6   \n",
      "3                                              1118                     9.9   \n",
      "4                                              1009                     8.9   \n",
      "...                                             ...                     ...   \n",
      "1611                                             80                    92.6   \n",
      "1612                                             66                    93.8   \n",
      "1613                                             70                    94.1   \n",
      "1614                                            100                    91.6   \n",
      "1615                                             83                    93.0   \n",
      "\n",
      "      Protein \\n(g)  Nitrogen \\n(g)  Fat, total \\n(g)  Ash \\n(g)  ...   \n",
      "0              10.8            1.72               6.7        5.8  ...  \\\n",
      "1              13.4            2.14              14.3       11.8  ...   \n",
      "2               4.0            0.64               1.2        3.6  ...   \n",
      "3               6.0            0.96              13.0        5.6  ...   \n",
      "4              12.4            1.98              17.8        6.0  ...   \n",
      "...             ...             ...               ...        ...  ...   \n",
      "1611            1.3            0.20               0.4        0.6  ...   \n",
      "1612            1.1            0.17               0.4        0.5  ...   \n",
      "1613            2.2            0.35               0.3        0.6  ...   \n",
      "1614            3.1            0.50               0.4        0.8  ...   \n",
      "1615            2.6            0.42               0.4        0.7  ...   \n",
      "\n",
      "      Leucine \\n(mg)  Lysine \\n(mg) Methionine \\n(mg) Phenylalanine \\n(mg)   \n",
      "0                 31             31                31                   31  \\\n",
      "1                 31             31                31                   31   \n",
      "2                 31             31                31                   31   \n",
      "3                 31             31                31                   31   \n",
      "4                 31             31                31                   31   \n",
      "...              ...            ...               ...                  ...   \n",
      "1611            62.0           58.0              16.0                 38.0   \n",
      "1612            52.0           48.0              13.0                 31.0   \n",
      "1613           106.0          100.0              27.0                 64.0   \n",
      "1614           152.0          142.0              38.0                 92.0   \n",
      "1615           126.0          118.0              32.0                 77.0   \n",
      "\n",
      "     Proline \\n(mg) Serine \\n(mg) Threonine \\n(mg) Tyrosine \\n(mg)   \n",
      "0                31            31               31              31  \\\n",
      "1                31            31               31              31   \n",
      "2                31            31               31              31   \n",
      "3                31            31               31              31   \n",
      "4                31            31               31              31   \n",
      "...             ...           ...              ...             ...   \n",
      "1611           32.0          81.0             39.0            28.0   \n",
      "1612           26.0          67.0             33.0            24.0   \n",
      "1613           54.0         138.0             67.0            48.0   \n",
      "1614           77.0         198.0             96.0            69.0   \n",
      "1615           64.0         165.0             80.0            58.0   \n",
      "\n",
      "     Tryptophan \\n(mg)  Valine \\n(mg)  \n",
      "0                  155             31  \n",
      "1                   69             31  \n",
      "2                   49             31  \n",
      "3                   30             31  \n",
      "4                  178             31  \n",
      "...                ...            ...  \n",
      "1611                14           53.0  \n",
      "1612                12           44.0  \n",
      "1613                25           91.0  \n",
      "1614                35          130.0  \n",
      "1615                29          108.0  \n",
      "\n",
      "[1616 rows x 293 columns]\n",
      "\n",
      "For second version of food group:\n",
      "\tFood groups to replace as misc: ['20', '29', '25', '27', '17', '26', '21', '34', '30', '32']\n",
      "\tTotal number of classifications: 13\n",
      "\tTop 13 classifications: ['11', '12', '13', '14', '15', '16', '18', '19', '22', '23', '24', '28', '31']\n",
      "\n",
      "\n",
      "For third version of food group:\n",
      "\tFood groups to replace as misc: ['32']\n",
      "\tTotal number of classifications: 22\n",
      "\tTop 22 classifications: ['11', '12', '13', '14', '15', '16', '17', '18', '19', '20', '21', '22', '23', '24', '25', '26', '27', '28', '29', '30', '31', '34']\n",
      "\n"
     ]
    }
   ],
   "source": [
    "FIRST_TOP_X = 6\n",
    "SECOND_TOP_X = 14\n",
    "THIRD_TOP_X = 23\n",
    "MISCELLANEOUS = '31'\n",
    "\n",
    "# convert na to 0\n",
    "data = data.fillna(MISCELLANEOUS)\n",
    "\n",
    "# convert classification to food group defined as taking the slice of the string for first 3 characters\n",
    "data['Classification'] = data['Classification'].astype(str).str.slice(0, 2)\n",
    "\n",
    "def make_misc(TOP_X, MISCELLANEOUS):\n",
    "    # copy data, to avoid changing the original df\n",
    "    data_new = data.copy()\n",
    "\n",
    "    # food_groups_to_replace_as_misc is defined as the value counts of the\n",
    "    # classification column that are less than the last value count of the\n",
    "    # top X classifications\n",
    "    food_groups_to_replace_as_misc = data_new['Classification'].value_counts()[TOP_X - 1:].index.tolist()\n",
    "    print('\\tFood groups to replace as misc: ' + str(food_groups_to_replace_as_misc))\n",
    "\n",
    "    # replace row values in the classification column with the misc food group \"31\"\n",
    "    data_new['Classification'] = data_new['Classification'].replace(food_groups_to_replace_as_misc, MISCELLANEOUS)\n",
    "\n",
    "    # print the total number of classifications\n",
    "    print('\\tTotal number of classifications: ' + str(len(data_new['Classification'].unique())))\n",
    "\n",
    "    # count the number of each classification and take the top x\n",
    "    top_x_classifications = data_new['Classification'].value_counts().head(TOP_X).index.tolist()\n",
    "    print('\\tTop ' + str(min(TOP_X, len(data_new['Classification'].unique()))) + ' classifications: ' + str(sorted(top_x_classifications)) + '\\n')\n",
    "\n",
    "    # replace NaN values with 0\n",
    "    data_without_nans = data_new.fillna(0)\n",
    "\n",
    "    return data_without_nans, data_new\n",
    "\n",
    "\n",
    "# get df for each version of food groups\n",
    "print(f'For first version of food group:')\n",
    "first_groups, first_data = make_misc(FIRST_TOP_X, MISCELLANEOUS)\n",
    "print(first_data)\n",
    "\n",
    "print(f'\\nFor second version of food group:')\n",
    "second_groups, second_data = make_misc(SECOND_TOP_X, MISCELLANEOUS)\n",
    "\n",
    "print(f'\\nFor third version of food group:')\n",
    "third_groups, third_data = make_misc(THIRD_TOP_X, MISCELLANEOUS)"
   ]
  },
  {
   "attachments": {},
   "cell_type": "markdown",
   "metadata": {},
   "source": [
    "---\n",
    "# Feature selection by mutual information\n",
    "Select the features above a certain threshold of mutual information with the target variable."
   ]
  },
  {
   "attachments": {},
   "cell_type": "markdown",
   "metadata": {},
   "source": [
    "### For regression\n",
    "Used with `linear-regression.ipynb`"
   ]
  },
  {
   "cell_type": "code",
   "execution_count": 85,
   "metadata": {},
   "outputs": [],
   "source": [
    "# energy with dietary fibre is the target variable of mutual information calculation\n",
    "from sklearn.feature_selection import mutual_info_regression\n",
    "def m_i_regress(data_without_nans):\n",
    "    nutritional_values_regression = data_without_nans.drop(['Public Food Key', 'Classification', 'Food Name'], axis=1)\n",
    "\n",
    "    # calculate mutual information\n",
    "    mi_regression = mutual_info_regression(nutritional_values_regression, nutritional_values_regression['Energy with dietary fibre, equated \\n(kJ)'])\n",
    "    return mi_regression\n",
    "\n",
    "# generate regression mutual information for each version of food groups\n",
    "first_groups_reg = m_i_regress(first_groups)\n",
    "second_groups_reg = m_i_regress(second_groups)\n",
    "third_groups_reg = m_i_regress(third_groups)\n"
   ]
  },
  {
   "attachments": {},
   "cell_type": "markdown",
   "metadata": {},
   "source": [
    "### For classification\n",
    "Used with `knn.ipynb`"
   ]
  },
  {
   "cell_type": "code",
   "execution_count": 86,
   "metadata": {},
   "outputs": [],
   "source": [
    "# classification is the target variable of mutual information calculation\n",
    "from sklearn.feature_selection import mutual_info_classif\n",
    "\n",
    "def m_i_classif(data_without_nans):\n",
    "    nutritional_values_classif = data_without_nans.drop(['Public Food Key', 'Food Name'], axis=1)\n",
    "\n",
    "    # calculate mutual information\n",
    "    mi_classif = mutual_info_classif(nutritional_values_classif, nutritional_values_classif['Classification'])\n",
    "    return mi_classif, nutritional_values_classif\n",
    "\n",
    "# generate classificaion mutual information for each version of food groups\n",
    "first_groups_classif, first_nutr_vals = m_i_classif(first_groups)\n",
    "second_groups_classif, second_nutr_vals = m_i_classif(second_groups)\n",
    "third_groups_classif, third_nutr_vals = m_i_classif(third_groups)"
   ]
  },
  {
   "attachments": {},
   "cell_type": "markdown",
   "metadata": {},
   "source": [
    "## Save dataset with selected features"
   ]
  },
  {
   "cell_type": "code",
   "execution_count": 87,
   "metadata": {},
   "outputs": [
    {
     "name": "stdout",
     "output_type": "stream",
     "text": [
      "     Public Food Key Classification   \n",
      "0            F002258             31  \\\n",
      "1            F002893             31   \n",
      "2            F002963             31   \n",
      "3            F002970             31   \n",
      "4            F003190             31   \n",
      "...              ...            ...   \n",
      "1611         F009774             24   \n",
      "1612         F009773             24   \n",
      "1613         F009766             24   \n",
      "1614         F009765             24   \n",
      "1615         F009764             24   \n",
      "\n",
      "                                              Food Name  \n",
      "0                          Cardamom seed, dried, ground  \n",
      "1                         Chilli (chili), dried, ground  \n",
      "2                               Cinnamon, dried, ground  \n",
      "3                                 Cloves, dried, ground  \n",
      "4                         Coriander seed, dried, ground  \n",
      "...                                                 ...  \n",
      "1611  Zucchini, green skin, fresh, unpeeled, fried, ...  \n",
      "1612  Zucchini, green skin, fresh, unpeeled, boiled,...  \n",
      "1613             Zucchini, golden, fresh, unpeeled, raw  \n",
      "1614  Zucchini, golden, fresh, unpeeled, fried, no a...  \n",
      "1615  Zucchini, golden, fresh, unpeeled, boiled, dra...  \n",
      "\n",
      "[1616 rows x 3 columns]\n"
     ]
    }
   ],
   "source": [
    "print(first_data[['Public Food Key', 'Classification', 'Food Name']])"
   ]
  },
  {
   "cell_type": "code",
   "execution_count": 90,
   "metadata": {},
   "outputs": [
    {
     "name": "stdout",
     "output_type": "stream",
     "text": [
      "For first version of food groups, 6 groups:\n",
      "\tNumber of features selected: 103\n",
      "\n",
      "For second version of food groups, 14 groups:\n",
      "\tNumber of features selected: 124\n",
      "\n",
      "For third version of food groups, 23 groups:\n",
      "\tNumber of features selected: 140\n"
     ]
    }
   ],
   "source": [
    "THRESHOLD = 0.2\n",
    "\n",
    "\n",
    "def save_mutual_information_to_csv(mi, nutritional_values, new_classif_data, filename, threshold=THRESHOLD):\n",
    "    # show all mutual information values above threshold\n",
    "    selected_features = {}\n",
    "    for i in range(len(mi)):\n",
    "        if mi[i] >= THRESHOLD:\n",
    "            selected_features[nutritional_values.columns[i]] = mi[i]\n",
    "    print(\"\\tNumber of features selected:\", len(selected_features))\n",
    "\n",
    "    # use the selected features to create a new dataframe of only the selected features\n",
    "    data_with_selected_features = data[list(selected_features.keys())[1:]]\n",
    "\n",
    "    classifs_for_variation = new_classif_data[['Public Food Key', 'Classification', 'Food Name']]\n",
    "\n",
    "    concat_data = pd.concat([classifs_for_variation, data_with_selected_features], axis=1)\n",
    "\n",
    "    # convert dictionary to dataframe\n",
    "    selected_features = pd.DataFrame.from_dict(selected_features, orient='index', columns=['Mutual Information'])\n",
    "\n",
    "    # save data with selected features to csv\n",
    "    concat_data.to_csv(f'../data/generated/{filename}', sep=',', header=True, index=False)\n",
    "\n",
    "\n",
    "# save information to be used for supervised learning model to csv\n",
    "print(f'For first version of food groups, {FIRST_TOP_X} groups:')\n",
    "save_mutual_information_to_csv(first_groups_classif, first_nutr_vals, first_data, 'first-preprocessed-data-classification.csv')\n",
    "\n",
    "print(f'\\nFor second version of food groups, {SECOND_TOP_X} groups:')\n",
    "save_mutual_information_to_csv(second_groups_classif, second_nutr_vals, second_data, 'second-preprocessed-data-classification.csv')\n",
    "\n",
    "print(f'\\nFor third version of food groups, {THIRD_TOP_X} groups:')\n",
    "save_mutual_information_to_csv(third_groups_classif, third_nutr_vals, third_data, 'third-preprocessed-data-classification.csv')"
   ]
  }
 ],
 "metadata": {
  "kernelspec": {
   "display_name": ".venv",
   "language": "python",
   "name": "python3"
  },
  "language_info": {
   "codemirror_mode": {
    "name": "ipython",
    "version": 3
   },
   "file_extension": ".py",
   "mimetype": "text/x-python",
   "name": "python",
   "nbconvert_exporter": "python",
   "pygments_lexer": "ipython3",
   "version": "3.11.3"
  },
  "orig_nbformat": 4
 },
 "nbformat": 4,
 "nbformat_minor": 2
}

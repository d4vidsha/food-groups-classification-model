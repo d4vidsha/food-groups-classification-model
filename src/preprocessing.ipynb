{
 "cells": [
  {
   "attachments": {},
   "cell_type": "markdown",
   "metadata": {},
   "source": [
    "# Import data\n",
    "Import the full dataset."
   ]
  },
  {
   "cell_type": "code",
   "execution_count": 86,
   "metadata": {},
   "outputs": [
    {
     "data": {
      "text/plain": [
       "(1616, 293)"
      ]
     },
     "execution_count": 86,
     "metadata": {},
     "output_type": "execute_result"
    }
   ],
   "source": [
    "import pandas as pd\n",
    "import os\n",
    "\n",
    "# depending on the OS the path to the data file is different\n",
    "if os.name == 'nt':\n",
    "    data = pd.read_excel(r'..\\data\\nutrient-file-release2-jan22.xlsx', sheet_name='All solids & liquids per 100g')\n",
    "elif os.name == 'posix':\n",
    "    data = pd.read_excel(r'../data/nutrient-file-release2-jan22.xlsx', sheet_name='All solids & liquids per 100g')\n",
    "\n",
    "data.shape"
   ]
  },
  {
   "attachments": {},
   "cell_type": "markdown",
   "metadata": {},
   "source": [
    "---\n",
    "# Preprocessing\n",
    "1. Convert \"Classification\" column to its root food group.\n",
    "2. Replace less common food groups with the \"Miscellaneous\" food group."
   ]
  },
  {
   "cell_type": "code",
   "execution_count": 87,
   "metadata": {},
   "outputs": [
    {
     "name": "stdout",
     "output_type": "stream",
     "text": [
      "For first version of food group:\n",
      "\tFood groups to replace as misc: ['19', '11', '22', '23', '14', '31', '28', '20', '29', '25', '27', '17', '26', '21', '34', '30', '32']\n",
      "\tTotal number of classifications: 7\n",
      "\tTop 6 classifications: ['12', '15', '16', '18', '24', '31']\n",
      "\n",
      "\n",
      "For second version of food group:\n",
      "\tFood groups to replace as misc: ['29', '25', '27', '17', '26', '21', '34', '30', '32']\n",
      "\tTotal number of classifications: 14\n",
      "\tTop 14 classifications: ['11', '12', '13', '14', '15', '16', '18', '19', '20', '22', '23', '24', '28', '31']\n",
      "\n",
      "\n",
      "For third version of food group:\n",
      "\tFood groups to replace as misc: []\n",
      "\tTotal number of classifications: 23\n",
      "\tTop 23 classifications: ['11', '12', '13', '14', '15', '16', '17', '18', '19', '20', '21', '22', '23', '24', '25', '26', '27', '28', '29', '30', '31', '32', '34']\n",
      "\n"
     ]
    }
   ],
   "source": [
    "FIRST_TOP_X = 6\n",
    "SECOND_TOP_X = 14\n",
    "THIRD_TOP_X = 23\n",
    "MISCELLANEOUS = '31'\n",
    "\n",
    "# convert na to 0\n",
    "data = data.fillna(MISCELLANEOUS)\n",
    "\n",
    "# convert classification to food group defined as taking the slice of the string for first 3 characters\n",
    "data['Classification'] = data['Classification'].astype(str).str.slice(0, 2)\n",
    "\n",
    "def make_misc(TOP_X, MISCELLANEOUS):\n",
    "    # copy data, to avoid changing the original df\n",
    "    data_new = data.copy()\n",
    "\n",
    "    # food_groups_to_replace_as_misc is defined as the value counts of the\n",
    "    # classification column that are less than the last value count of the\n",
    "    # top X classifications\n",
    "    food_groups_to_replace_as_misc = data_new['Classification'].value_counts()[TOP_X:].index.tolist()\n",
    "    print('\\tFood groups to replace as misc: ' + str(food_groups_to_replace_as_misc))\n",
    "\n",
    "    # replace row values in the classification column with the misc food group \"31\"\n",
    "    data_new['Classification'] = data_new['Classification'].replace(food_groups_to_replace_as_misc, MISCELLANEOUS)\n",
    "\n",
    "    # print the total number of classifications\n",
    "    print('\\tTotal number of classifications: ' + str(len(data_new['Classification'].unique())))\n",
    "\n",
    "    # count the number of each classification and take the top x\n",
    "    top_x_classifications = data_new['Classification'].value_counts().head(TOP_X).index.tolist()\n",
    "    print('\\tTop ' + str(min(TOP_X, len(data_new['Classification'].unique()))) + ' classifications: ' + str(sorted(top_x_classifications)) + '\\n')\n",
    "\n",
    "    # replace NaN values with 0\n",
    "    data_without_nans = data_new.fillna(0)\n",
    "\n",
    "    return data_without_nans, data_new\n",
    "\n",
    "\n",
    "# get df for each version of food groups\n",
    "print(f'For first version of food group:')\n",
    "first_groups, first_data = make_misc(FIRST_TOP_X, MISCELLANEOUS)\n",
    "\n",
    "print(f'\\nFor second version of food group:')\n",
    "second_groups, second_data = make_misc(SECOND_TOP_X, MISCELLANEOUS)\n",
    "\n",
    "print(f'\\nFor third version of food group:')\n",
    "third_groups, third_data = make_misc(THIRD_TOP_X, MISCELLANEOUS)"
   ]
  },
  {
   "attachments": {},
   "cell_type": "markdown",
   "metadata": {},
   "source": [
    "---\n",
    "# Feature selection by mutual information\n",
    "Select the features above a certain threshold of mutual information with the target variable."
   ]
  },
  {
   "attachments": {},
   "cell_type": "markdown",
   "metadata": {},
   "source": [
    "### For regression\n",
    "Used with `linear-regression.ipynb`"
   ]
  },
  {
   "cell_type": "code",
   "execution_count": 88,
   "metadata": {},
   "outputs": [],
   "source": [
    "# energy with dietary fibre is the target variable of mutual information calculation\n",
    "from sklearn.feature_selection import mutual_info_regression\n",
    "def m_i_regress(data_without_nans):\n",
    "    nutritional_values_regression = data_without_nans.drop(['Public Food Key', 'Classification', 'Food Name'], axis=1)\n",
    "\n",
    "    # calculate mutual information\n",
    "    mi_regression = mutual_info_regression(nutritional_values_regression, nutritional_values_regression['Energy with dietary fibre, equated \\n(kJ)'])\n",
    "    return mi_regression\n",
    "\n",
    "# generate regression mutual information for each version of food groups\n",
    "first_groups_reg = m_i_regress(first_groups)\n",
    "second_groups_reg = m_i_regress(second_groups)\n",
    "third_groups_reg = m_i_regress(third_groups)\n"
   ]
  },
  {
   "attachments": {},
   "cell_type": "markdown",
   "metadata": {},
   "source": [
    "### For classification\n",
    "Used with `knn.ipynb`"
   ]
  },
  {
   "cell_type": "code",
   "execution_count": 89,
   "metadata": {},
   "outputs": [],
   "source": [
    "# classification is the target variable of mutual information calculation\n",
    "from sklearn.feature_selection import mutual_info_classif\n",
    "\n",
    "def m_i_classif(data_without_nans):\n",
    "    nutritional_values_classif = data_without_nans.drop(['Public Food Key', 'Food Name'], axis=1)\n",
    "\n",
    "    # calculate mutual information\n",
    "    mi_classif = mutual_info_classif(nutritional_values_classif, nutritional_values_classif['Classification'])\n",
    "    return mi_classif, nutritional_values_classif\n",
    "\n",
    "# generate classificaion mutual information for each version of food groups\n",
    "first_groups_classif, first_nutr_vals = m_i_classif(first_groups)\n",
    "second_groups_classif, second_nutr_vals = m_i_classif(second_groups)\n",
    "third_groups_classif, third_nutr_vals = m_i_classif(third_groups)"
   ]
  },
  {
   "attachments": {},
   "cell_type": "markdown",
   "metadata": {},
   "source": [
    "## Save dataset with selected features"
   ]
  },
  {
   "cell_type": "code",
   "execution_count": 90,
   "metadata": {},
   "outputs": [
    {
     "name": "stdout",
     "output_type": "stream",
     "text": [
      "     Public Food Key Classification   \n",
      "0            F002258             31  \\\n",
      "1            F002893             31   \n",
      "2            F002963             31   \n",
      "3            F002970             31   \n",
      "4            F003190             31   \n",
      "...              ...            ...   \n",
      "1611         F009774             24   \n",
      "1612         F009773             24   \n",
      "1613         F009766             24   \n",
      "1614         F009765             24   \n",
      "1615         F009764             24   \n",
      "\n",
      "                                              Food Name  \n",
      "0                          Cardamom seed, dried, ground  \n",
      "1                         Chilli (chili), dried, ground  \n",
      "2                               Cinnamon, dried, ground  \n",
      "3                                 Cloves, dried, ground  \n",
      "4                         Coriander seed, dried, ground  \n",
      "...                                                 ...  \n",
      "1611  Zucchini, green skin, fresh, unpeeled, fried, ...  \n",
      "1612  Zucchini, green skin, fresh, unpeeled, boiled,...  \n",
      "1613             Zucchini, golden, fresh, unpeeled, raw  \n",
      "1614  Zucchini, golden, fresh, unpeeled, fried, no a...  \n",
      "1615  Zucchini, golden, fresh, unpeeled, boiled, dra...  \n",
      "\n",
      "[1616 rows x 3 columns]\n"
     ]
    }
   ],
   "source": [
    "print(first_data[['Public Food Key', 'Classification', 'Food Name']])"
   ]
  },
  {
   "cell_type": "code",
   "execution_count": 92,
   "metadata": {},
   "outputs": [
    {
     "name": "stdout",
     "output_type": "stream",
     "text": [
      "For first version of food groups, 6 groups:\n",
      "\tNumber of features selected: 109\n",
      "\n",
      "For second version of food groups, 14 groups:\n",
      "\tNumber of features selected: 131\n",
      "\n",
      "For third version of food groups, 23 groups:\n",
      "\tNumber of features selected: 146\n"
     ]
    }
   ],
   "source": [
    "THRESHOLD = 0.2\n",
    "\n",
    "\n",
    "def save_mutual_information_to_csv(mi, nutritional_values, new_classif_data, filename, threshold=THRESHOLD):\n",
    "    # show all mutual information values above threshold\n",
    "    selected_features = {}\n",
    "    for i in range(len(mi)):\n",
    "        if mi[i] >= THRESHOLD:\n",
    "            selected_features[nutritional_values.columns[i]] = mi[i]\n",
    "    print(\"\\tNumber of features selected:\", len(selected_features))\n",
    "\n",
    "    # use the selected features to create a new dataframe of only the selected features\n",
    "    data_with_selected_features = data[list(selected_features.keys())[1:]]\n",
    "\n",
    "    classifs_for_variation = new_classif_data[['Public Food Key', 'Classification', 'Food Name']]\n",
    "\n",
    "    concat_data = pd.concat([classifs_for_variation, data_with_selected_features], axis=1)\n",
    "\n",
    "    # convert dictionary to dataframe\n",
    "    selected_features = pd.DataFrame.from_dict(selected_features, orient='index', columns=['Mutual Information'])\n",
    "\n",
    "    # save data with selected features to csv\n",
    "    concat_data.to_csv(f'../data/generated/{filename}', sep=',', header=True, index=False)\n",
    "\n",
    "\n",
    "# save information to be used for supervised learning model to csv\n",
    "print(f'For first version of food groups, {FIRST_TOP_X} groups:')\n",
    "save_mutual_information_to_csv(first_groups_classif, first_nutr_vals, first_data, 'preprocessed-data-classification-first.csv')\n",
    "\n",
    "print(f'\\nFor second version of food groups, {SECOND_TOP_X} groups:')\n",
    "save_mutual_information_to_csv(second_groups_classif, second_nutr_vals, second_data, 'preprocessed-data-classification-second.csv')\n",
    "\n",
    "print(f'\\nFor third version of food groups, {THIRD_TOP_X} groups:')\n",
    "save_mutual_information_to_csv(third_groups_classif, third_nutr_vals, third_data, 'preprocessed-data-classification-third.csv')"
   ]
  }
 ],
 "metadata": {
  "kernelspec": {
   "display_name": ".venv",
   "language": "python",
   "name": "python3"
  },
  "language_info": {
   "codemirror_mode": {
    "name": "ipython",
    "version": 3
   },
   "file_extension": ".py",
   "mimetype": "text/x-python",
   "name": "python",
   "nbconvert_exporter": "python",
   "pygments_lexer": "ipython3",
   "version": "3.11.3"
  },
  "orig_nbformat": 4
 },
 "nbformat": 4,
 "nbformat_minor": 2
}

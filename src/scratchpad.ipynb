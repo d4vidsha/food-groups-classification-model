{
 "cells": [
  {
   "cell_type": "code",
   "execution_count": 4,
   "metadata": {},
   "outputs": [
    {
     "name": "stdout",
     "output_type": "stream",
     "text": [
      "Removed 0 rows\n",
      "Removed 48 columns\n",
      "Removed rows:  []\n",
      "Removed columns:  ['Glycerol \\n(g)', 'Erythritol \\n(g)', 'Maltitol \\n(g)', 'Xylitol \\n(g)', 'Oligosaccharides  \\n(g)', 'Polydextrose \\n(g)', 'Fumaric acid \\n(g)', 'Shikimic acid \\n(g)', '25-hydroxy ergocalciferol (25-OH D2) \\n(ug)', 'Delta tocotrienol \\n(mg)', 'Gamma tocotrienol \\n(mg)', 'C23 (%T)', 'C10:1 (%T)', 'C18:1w5 (%T)', 'C18:1w6 (%T)', 'C18:1w7 (%T)', 'C18:1w9 (%T)', 'C20:1w9 (%T)', 'C20:1w13 (%T)', 'C20:1w11 (%T)', 'C22:1w9 (%T)', 'C22:1w11 (%T)', 'C24:1w9 (%T)', 'C24:1w11 (%T)', 'C24:1w13 (%T)', 'C12:2 (%T)', 'C16:3 (%T)', 'C20:3 (%T)', 'C20:4 (%T)', 'C23 (g)', 'C10:1 (g)', 'C12:1 (g)', 'C18:1w5 (mg)', 'C18:1w6 (mg)', 'C18:1w7 (g)', 'C18:1w9 (mg)', 'C20:1w9 (mg)', 'C20:1w13 (mg)', 'C20:1w11 (mg)', 'C22:1w9 (mg)', 'C22:1w11 (mg)', 'C24:1w9 (mg)', 'C24:1w11 (mg)', 'C24:1w13 (mg)', 'C12:2 (g)', 'C16:3 (g)', 'C20:3 (mg)', 'C20:4 (g)']\n"
     ]
    }
   ],
   "source": [
    "import pandas as pd\n",
    "import os\n",
    "import numpy as np\n",
    "\n",
    "THRESHOLD = 2\n",
    "ROWS = 0\n",
    "COLUMNS = 1\n",
    "\n",
    "# depending on the OS the path to the data file is different\n",
    "if os.name == 'nt':\n",
    "    data = pd.read_excel(r'..\\data\\nutrient-file-release2-jan22.xlsx', sheet_name='All solids & liquids per 100g')\n",
    "elif os.name == 'posix':\n",
    "    data = pd.read_excel(r'../data/nutrient-file-release2-jan22.xlsx', sheet_name='All solids & liquids per 100g')\n",
    "\n",
    "# replace 0 with NaN\n",
    "data = data.replace({0: np.nan})\n",
    "    \n",
    "# get the list of row/column names before dropping\n",
    "before_cols = data.columns\n",
    "before_rows = data.index\n",
    "\n",
    "# remove rows/columns with less than (THRESHOLD) non-null values\n",
    "data = data.dropna(thresh=THRESHOLD, axis=COLUMNS)\n",
    "data = data.dropna(thresh=THRESHOLD, axis=ROWS)\n",
    "\n",
    "# get the list of row/column names after dropping\n",
    "after_cols = data.columns\n",
    "after_rows = data.index\n",
    "\n",
    "# find the removed rows/columns\n",
    "removed_rows = [row for row in before_rows if row not in after_rows]\n",
    "removed_cols = [col for col in before_cols if col not in after_cols]\n",
    "\n",
    "# print the removed rows/columns\n",
    "print(\"Removed\" , len(removed_rows), \"rows\")\n",
    "print(\"Removed\" , len(removed_cols), \"columns\")\n",
    "print(\"Removed rows: \", removed_rows)\n",
    "print(\"Removed columns: \", removed_cols)"
   ]
  },
  {
   "attachments": {},
   "cell_type": "markdown",
   "metadata": {},
   "source": [
    "## $k$-NN"
   ]
  },
  {
   "cell_type": "code",
   "execution_count": null,
   "metadata": {},
   "outputs": [],
   "source": [
    "import matplotlib.pyplot as plt\n",
    "from sklearn.model_selection import train_test_split\n",
    "\n",
    "# split data into train and test sets\n",
    "train, test = train_test_split(data, test_size=0.2)"
   ]
  },
  {
   "cell_type": "code",
   "execution_count": null,
   "metadata": {},
   "outputs": [],
   "source": [
    "# use nutrition columns as features\n",
    "X_COLS = list(data.columns[3:])\n",
    "\n",
    "# use classification column as target\n",
    "y_COL = data.columns[1]\n",
    "\n",
    "print(f\"X_COLS: {X_COLS}\")\n",
    "print(f\"y_COL: {y_COL}\")"
   ]
  },
  {
   "cell_type": "code",
   "execution_count": null,
   "metadata": {},
   "outputs": [],
   "source": [
    "# create design matrix X and predictions y\n",
    "X_train = train[X_COLS]\n",
    "y_train = train[y_COL]\n",
    "X_test = test[X_COLS]\n",
    "y_test = test[y_COL]\n",
    "\n",
    "# sample some rows of training set and their labels\n",
    "print(f\"X_train: {X_train.head()}\")\n",
    "print(\"Labels:\", y_train.iloc[:5].reset_index(drop=True).values)\n",
    "\n",
    "# sample some rows of test set and their labels\n",
    "print(f\"X_test: {X_test.head()}\")\n",
    "print(\"Labels:\", y_test.iloc[:5].reset_index(drop=True).values)"
   ]
  },
  {
   "cell_type": "code",
   "execution_count": null,
   "metadata": {},
   "outputs": [],
   "source": [
    "from sklearn.neighbors import KNeighborsClassifier\n",
    "\n",
    "# create knn with 3 neighbors\n",
    "knn = KNeighborsClassifier(n_neighbors=3)\n",
    "\n",
    "# replace NaN values with 0\n",
    "X_train.fillna(0, inplace=True)\n",
    "X_test.fillna(0, inplace=True)\n",
    "y_train.fillna(0, inplace=True)\n",
    "y_test.fillna(0, inplace=True)\n",
    "\n",
    "# train the model using the training set\n",
    "knn.fit(X_train, y_train)"
   ]
  },
  {
   "cell_type": "code",
   "execution_count": null,
   "metadata": {},
   "outputs": [],
   "source": [
    "import warnings\n",
    "warnings.simplefilter(action='ignore', category=FutureWarning)\n",
    "\n",
    "# predict the labels of the test set\n",
    "y_pred = knn.predict(X_test)\n",
    "\n",
    "# print the predictions\n",
    "print(f\"First 5 predictions: {y_pred[:5]}\")"
   ]
  },
  {
   "cell_type": "code",
   "execution_count": null,
   "metadata": {},
   "outputs": [],
   "source": [
    "# check the accuracy\n",
    "from sklearn.metrics import accuracy_score\n",
    "\n",
    "# y_test constains the true labels of the test set\n",
    "# y_pred contains the predicted labels of the test set\n",
    "print(f\"Accuracy: {accuracy_score(y_test, y_pred)}\")"
   ]
  },
  {
   "cell_type": "code",
   "execution_count": null,
   "metadata": {},
   "outputs": [],
   "source": [
    "# show confusion matrix\n",
    "from sklearn.metrics import confusion_matrix, ConfusionMatrixDisplay\n",
    "import seaborn as sns\n",
    "\n",
    "# create confusion matrix\n",
    "cm = confusion_matrix(y_test, y_pred)\n",
    "\n",
    "# create a confusion matrix using crosstab\n",
    "cm2 = pd.crosstab(y_test, y_pred)\n",
    "#print(cm2)\n",
    "\n",
    "# create confusion matrix display\n",
    "disp = ConfusionMatrixDisplay(confusion_matrix=cm)\n",
    "disp2 = ConfusionMatrixDisplay(confusion_matrix=cm2)\n",
    "\n",
    "# plot confusion matrix\n",
    "disp.plot()\n",
    "plt.title(\"Confusion Matrix\")\n",
    "plt.show()\n",
    "\n",
    "# plot the confusion matrix using seaborn\n",
    "sns.heatmap(cm2, annot=True, cmap='Blues')\n",
    "plt.xlabel('Predicted Labels')\n",
    "plt.ylabel('True Labels')\n",
    "plt.title('Confusion Matrix')\n",
    "plt.show()\n",
    "\n",
    "# both these plots are cursed mfs"
   ]
  },
  {
   "attachments": {},
   "cell_type": "markdown",
   "metadata": {},
   "source": [
    "# Linear Regression"
   ]
  },
  {
   "cell_type": "code",
   "execution_count": null,
   "metadata": {},
   "outputs": [],
   "source": [
    "import random\n",
    "import seaborn as sns\n",
    "import pandas as pd\n",
    "\n",
    "import matplotlib.pyplot as plt\n",
    "\n",
    "from sklearn.metrics import mean_squared_error\n",
    "from sklearn.linear_model import LinearRegression\n",
    "from sklearn.model_selection import train_test_split"
   ]
  },
  {
   "cell_type": "code",
   "execution_count": null,
   "metadata": {},
   "outputs": [],
   "source": [
    "train, test = train_test_split(data, test_size=0.2)\n",
    "\n",
    "# sample some rows of training set\n",
    "X_train.sample(10)"
   ]
  },
  {
   "cell_type": "code",
   "execution_count": null,
   "metadata": {},
   "outputs": [],
   "source": [
    "X_COLS = list(data.columns[5:])\n",
    "y_COL = data.columns[4]\n",
    "\n",
    "print(f\"X_COLS: {X_COLS}\")\n",
    "print(f\"y_COL: {y_COL}\")\n",
    "\n",
    "# create design matrix X and predictions y\n",
    "X_train = train[X_COLS]\n",
    "y_train = train[y_COL]\n",
    "X_test = test[X_COLS]\n",
    "y_test = test[y_COL]\n",
    "\n",
    "# sample some rows of training set and their labels\n",
    "X_train.head()\n",
    "y_train.head()"
   ]
  },
  {
   "cell_type": "code",
   "execution_count": null,
   "metadata": {},
   "outputs": [],
   "source": [
    "# create and fit linear model\n",
    "lm = LinearRegression()\n",
    "\n",
    "# replace NaN values with 0\n",
    "X_train.fillna(0, inplace=True)\n",
    "X_test.fillna(0, inplace=True)\n",
    "y_train.fillna(0, inplace=True)\n",
    "y_test.fillna(0, inplace=True)\n",
    "\n",
    "lm.fit(X_train, y_train)"
   ]
  },
  {
   "cell_type": "code",
   "execution_count": null,
   "metadata": {},
   "outputs": [],
   "source": [
    "# get intercepts and coefficients\n",
    "print(f\"Intercept: {lm.intercept_}\")\n",
    "print(f\"Coefficients: {lm.coef_}\")\n",
    "\n",
    "# get the MSE\n",
    "y_pred = lm.predict(X_test)\n",
    "print(f\"MSE: {mean_squared_error(y_test, y_pred)}\")"
   ]
  },
  {
   "cell_type": "code",
   "execution_count": null,
   "metadata": {},
   "outputs": [],
   "source": [
    "# visualise\n",
    "plt.scatter(y_test, y_pred)\n",
    "plt.xlabel(\"True Values\")\n",
    "plt.ylabel(\"Predictions\")\n",
    "plt.show()"
   ]
  }
 ],
 "metadata": {
  "kernelspec": {
   "display_name": ".venv",
   "language": "python",
   "name": "python3"
  },
  "language_info": {
   "codemirror_mode": {
    "name": "ipython",
    "version": 3
   },
   "file_extension": ".py",
   "mimetype": "text/x-python",
   "name": "python",
   "nbconvert_exporter": "python",
   "pygments_lexer": "ipython3",
   "version": "3.11.3"
  },
  "orig_nbformat": 4
 },
 "nbformat": 4,
 "nbformat_minor": 2
}

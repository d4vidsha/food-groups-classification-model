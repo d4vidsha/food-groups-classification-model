{
 "cells": [
  {
   "attachments": {},
   "cell_type": "markdown",
   "metadata": {},
   "source": [
    "# Import data\n",
    "Import data from a file containing the preprocessed dataset."
   ]
  },
  {
   "cell_type": "code",
   "execution_count": null,
   "metadata": {},
   "outputs": [],
   "source": [
    "import pandas as pd\n",
    "import os\n",
    "\n",
    "# depending on the OS the path to the data file is different\n",
    "if os.name == 'nt':\n",
    "    data = pd.read_csv(r'..\\data\\preprocessed-data-regression.csv')\n",
    "elif os.name == 'posix':\n",
    "    data = pd.read_csv(r'../data/preprocessed-data-regression.csv')"
   ]
  },
  {
   "attachments": {},
   "cell_type": "markdown",
   "metadata": {},
   "source": [
    "---\n",
    "# Prepare data\n",
    "1. Determine the target variable.\n",
    "2. Determine the features.\n",
    "3. Split the data into training and test sets."
   ]
  },
  {
   "cell_type": "code",
   "execution_count": null,
   "metadata": {},
   "outputs": [],
   "source": [
    "import matplotlib.pyplot as plt\n",
    "from sklearn.model_selection import train_test_split\n",
    "\n",
    "# split data into train and test sets\n",
    "train, test = train_test_split(data, test_size=0.2, random_state=43)"
   ]
  },
  {
   "cell_type": "code",
   "execution_count": null,
   "metadata": {},
   "outputs": [],
   "source": [
    "# use nutrition columns as features\n",
    "X_COLS = list(data.columns[3:])\n",
    "\n",
    "# use classification column as target\n",
    "y_COL = data.columns[1]\n",
    "\n",
    "print(f\"X_COLS: {X_COLS}\")\n",
    "print(f\"y_COL: {y_COL}\")"
   ]
  },
  {
   "cell_type": "code",
   "execution_count": null,
   "metadata": {},
   "outputs": [],
   "source": [
    "# create design matrix X and predictions y\n",
    "X_train = train[X_COLS]\n",
    "y_train = train[y_COL]\n",
    "X_test = test[X_COLS]\n",
    "y_test = test[y_COL]"
   ]
  },
  {
   "attachments": {},
   "cell_type": "markdown",
   "metadata": {},
   "source": [
    "---\n",
    "# Linear Regression"
   ]
  },
  {
   "cell_type": "code",
   "execution_count": null,
   "metadata": {},
   "outputs": [],
   "source": [
    "import matplotlib.pyplot as plt\n",
    "\n",
    "from sklearn.metrics import mean_squared_error\n",
    "from sklearn.linear_model import LinearRegression\n",
    "from sklearn.model_selection import train_test_split"
   ]
  },
  {
   "cell_type": "code",
   "execution_count": null,
   "metadata": {},
   "outputs": [],
   "source": [
    "# sample some rows of training set\n",
    "X_train.sample(10)"
   ]
  },
  {
   "cell_type": "code",
   "execution_count": null,
   "metadata": {},
   "outputs": [],
   "source": [
    "X_COLS = list(data.columns[5:])\n",
    "y_COL = data.columns[4]\n",
    "\n",
    "print(f\"X_COLS: {X_COLS}\")\n",
    "print(f\"y_COL: {y_COL}\")\n",
    "\n",
    "# create design matrix X and predictions y\n",
    "X_train = train[X_COLS]\n",
    "y_train = train[y_COL]\n",
    "X_test = test[X_COLS]\n",
    "y_test = test[y_COL]"
   ]
  },
  {
   "cell_type": "code",
   "execution_count": null,
   "metadata": {},
   "outputs": [],
   "source": [
    "# create and fit linear model\n",
    "lm = LinearRegression()\n",
    "\n",
    "# replace NaN values with 0\n",
    "X_train = X_train.fillna(0)\n",
    "X_test = X_test.fillna(0)\n",
    "y_train = y_train.fillna(0)\n",
    "y_test = y_test.fillna(0)\n",
    "\n",
    "lm.fit(X_train, y_train)"
   ]
  },
  {
   "cell_type": "code",
   "execution_count": null,
   "metadata": {},
   "outputs": [],
   "source": [
    "# get intercepts and coefficients\n",
    "print(f\"Intercept: {lm.intercept_}\")\n",
    "print(f\"Coefficients: {lm.coef_}\")\n",
    "\n",
    "# get the MSE\n",
    "y_pred = lm.predict(X_test)\n",
    "print(f\"MSE: {mean_squared_error(y_test, y_pred)}\")\n",
    "\n",
    "# compare manually predicted labels with the true labels\n",
    "print(f\"Predictions: {y_pred[:10].round(1)}\")\n",
    "print(f\"True labels: {y_test[:10].values}\")"
   ]
  },
  {
   "cell_type": "code",
   "execution_count": null,
   "metadata": {},
   "outputs": [],
   "source": [
    "# visualise\n",
    "plt.scatter(y_test, y_pred)\n",
    "plt.xlabel(\"True Values\")\n",
    "plt.ylabel(\"Predictions\")\n",
    "plt.show()"
   ]
  },
  {
   "attachments": {},
   "cell_type": "markdown",
   "metadata": {},
   "source": [
    "A low MSE value indicates that the model is a good fit for the data. In this case, the MSE is considered low as can be seen from the plot above."
   ]
  }
 ],
 "metadata": {
  "kernelspec": {
   "display_name": ".venv",
   "language": "python",
   "name": "python3"
  },
  "language_info": {
   "codemirror_mode": {
    "name": "ipython",
    "version": 3
   },
   "file_extension": ".py",
   "mimetype": "text/x-python",
   "name": "python",
   "nbconvert_exporter": "python",
   "pygments_lexer": "ipython3",
   "version": "3.11.3"
  },
  "orig_nbformat": 4
 },
 "nbformat": 4,
 "nbformat_minor": 2
}

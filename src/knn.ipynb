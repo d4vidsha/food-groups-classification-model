{
 "cells": [
  {
   "attachments": {},
   "cell_type": "markdown",
   "metadata": {},
   "source": [
    "# Import data\n",
    "Import data from a file containing the preprocessed dataset."
   ]
  },
  {
   "cell_type": "code",
   "execution_count": null,
   "metadata": {},
   "outputs": [],
   "source": [
    "import pandas as pd\n",
    "import os\n",
    "\n",
    "# depending on the OS the path to the data file is different\n",
    "if os.name == 'nt':\n",
    "    data = pd.read_csv(r'..\\data\\preprocessed-data-classification.csv')\n",
    "    food_groups = pd.read_excel(r'..\\data\\food-groups.xls')\n",
    "elif os.name == 'posix':\n",
    "    data = pd.read_csv(r'../data/preprocessed-data-classification.csv')\n",
    "    food_groups = pd.read_excel(r'../data/food-groups.xls')\n",
    "\n",
    "# filter food groups with 'Food Group Code' with length 2\n",
    "food_groups = food_groups[food_groups['Food Group Code'].apply(lambda x: len(str(x)) == 2)]\n",
    "\n",
    "data.head()"
   ]
  },
  {
   "attachments": {},
   "cell_type": "markdown",
   "metadata": {},
   "source": [
    "---\n",
    "# Prepare data\n",
    "1. Determine the target variable.\n",
    "2. Determine the features.\n",
    "3. Split the data into training and test sets."
   ]
  },
  {
   "cell_type": "code",
   "execution_count": null,
   "metadata": {},
   "outputs": [],
   "source": [
    "# use nutrition columns as features\n",
    "X_COLS = list(data.columns[3:])\n",
    "\n",
    "# use classification column as target\n",
    "y_COL = data.columns[1]\n",
    "\n",
    "print(f\"X_COLS: {X_COLS}\")\n",
    "print(f\"y_COL: {y_COL}\")"
   ]
  },
  {
   "cell_type": "code",
   "execution_count": null,
   "metadata": {},
   "outputs": [],
   "source": [
    "import matplotlib.pyplot as plt\n",
    "from sklearn.model_selection import train_test_split\n",
    "\n",
    "# split data into train and test sets\n",
    "train, test = train_test_split(data, test_size=0.15, random_state=43)\n",
    "\n",
    "# create design matrix X and predictions y\n",
    "X_train = train[X_COLS]\n",
    "y_train = train[y_COL]\n",
    "X_test = test[X_COLS]\n",
    "y_test = test[y_COL]"
   ]
  },
  {
   "attachments": {},
   "cell_type": "markdown",
   "metadata": {},
   "source": [
    "---\n",
    "# $k$-nn\n",
    "We create a $k$-nn model which is used to classify a food into different food groups based on its nutritional information."
   ]
  },
  {
   "cell_type": "code",
   "execution_count": null,
   "metadata": {},
   "outputs": [],
   "source": [
    "from sklearn.neighbors import KNeighborsClassifier\n",
    "\n",
    "# create knn with 3 neighbors\n",
    "knn = KNeighborsClassifier(n_neighbors=4)\n",
    "\n",
    "# replace NaN values with 0\n",
    "X_train = X_train.fillna(0)\n",
    "X_test = X_test.fillna(0)\n",
    "y_train = y_train.fillna(0)\n",
    "y_test = y_test.fillna(0)\n",
    "\n",
    "# train the model using the training set\n",
    "knn.fit(X_train, y_train)"
   ]
  },
  {
   "cell_type": "code",
   "execution_count": null,
   "metadata": {},
   "outputs": [],
   "source": [
    "# predict the labels of the test set\n",
    "y_pred = knn.predict(X_test)"
   ]
  },
  {
   "attachments": {},
   "cell_type": "markdown",
   "metadata": {},
   "source": [
    "### Evaluation\n",
    "Calculate certain metrics to evaluate the model."
   ]
  },
  {
   "cell_type": "code",
   "execution_count": null,
   "metadata": {},
   "outputs": [],
   "source": [
    "# check the accuracy\n",
    "from sklearn.metrics import accuracy_score\n",
    "\n",
    "# y_test constains the true labels of the test set\n",
    "# y_pred contains the predicted labels of the test set\n",
    "print(f\"Accuracy: {accuracy_score(y_test, y_pred)}\")\n",
    "\n",
    "# compare manually predicted labels with the true labels\n",
    "print(f\"First few predictions: {y_pred[:10]}\")\n",
    "print(f\"First few true labels: {y_test[:10].values}\")"
   ]
  },
  {
   "cell_type": "code",
   "execution_count": null,
   "metadata": {},
   "outputs": [],
   "source": [
    "from sklearn.metrics import confusion_matrix, ConfusionMatrixDisplay\n",
    "\n",
    "# count the number of correct predictions\n",
    "print(\"Correct predictions per food group:\")\n",
    "for value in y_test.unique():\n",
    "    correct = 0\n",
    "    for i in range(len(y_test)):\n",
    "        if y_test.values[i] == y_pred[i] and y_test.values[i] == value:\n",
    "            correct += 1\n",
    "    food_group_name = food_groups[food_groups['Food Group Code'] == value]['Food Group and Sub-Group Name'].values[0].strip()\n",
    "    print(f\"{value}: {correct} ({food_group_name})\")\n",
    "\n",
    "# create confusion matrix\n",
    "cm = confusion_matrix(y_test, y_pred, labels=y_test.unique())\n",
    "\n",
    "# create confusion matrix display\n",
    "disp = ConfusionMatrixDisplay(confusion_matrix=cm)\n",
    "\n",
    "# plot confusion matrix\n",
    "disp.plot()\n",
    "plt.title(\"Confusion Matrix\")\n",
    "plt.xlabel(\"Predicted Labels\")\n",
    "plt.ylabel(\"True Labels\")\n",
    "\n",
    "# plot the labels on the x and y axis\n",
    "plt.xticks(range(len(y_test.unique())), y_test.unique())\n",
    "plt.yticks(range(len(y_test.unique())), y_test.unique())\n",
    "\n",
    "plt.show()\n",
    "\n",
    "# save the confusion matrix\n",
    "disp.figure_.savefig('../report/figs/knn-confusion-matrix.png', bbox_inches='tight')"
   ]
  }
 ],
 "metadata": {
  "kernelspec": {
   "display_name": ".venv",
   "language": "python",
   "name": "python3"
  },
  "language_info": {
   "codemirror_mode": {
    "name": "ipython",
    "version": 3
   },
   "file_extension": ".py",
   "mimetype": "text/x-python",
   "name": "python",
   "nbconvert_exporter": "python",
   "pygments_lexer": "ipython3",
   "version": "3.11.3"
  },
  "orig_nbformat": 4
 },
 "nbformat": 4,
 "nbformat_minor": 2
}
